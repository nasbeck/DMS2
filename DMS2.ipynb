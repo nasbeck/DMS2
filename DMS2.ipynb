{
 "cells": [
  {
   "cell_type": "markdown",
   "id": "spoken-reverse",
   "metadata": {},
   "source": [
    "# CHAPTER 1 - Python Basics"
   ]
  },
  {
   "cell_type": "code",
   "execution_count": 1,
   "id": "silver-arcade",
   "metadata": {},
   "outputs": [
    {
     "data": {
      "text/plain": [
       "4"
      ]
     },
     "execution_count": 1,
     "metadata": {},
     "output_type": "execute_result"
    }
   ],
   "source": [
    "2+2\n"
   ]
  },
  {
   "cell_type": "code",
   "execution_count": 6,
   "id": "overhead-measure",
   "metadata": {
    "scrolled": true
   },
   "outputs": [
    {
     "data": {
      "text/plain": [
       "16.0"
      ]
     },
     "execution_count": 6,
     "metadata": {},
     "output_type": "execute_result"
    }
   ],
   "source": [
    "(5-1)*((7+1)/(3-1))"
   ]
  },
  {
   "cell_type": "code",
   "execution_count": 20,
   "id": "intensive-brick",
   "metadata": {},
   "outputs": [
    {
     "ename": "SyntaxError",
     "evalue": "invalid syntax (<ipython-input-20-16e07b76f178>, line 1)",
     "output_type": "error",
     "traceback": [
      "\u001b[1;36m  File \u001b[1;32m\"<ipython-input-20-16e07b76f178>\"\u001b[1;36m, line \u001b[1;32m1\u001b[0m\n\u001b[1;33m    42 + 5 + * 2\u001b[0m\n\u001b[1;37m             ^\u001b[0m\n\u001b[1;31mSyntaxError\u001b[0m\u001b[1;31m:\u001b[0m invalid syntax\n"
     ]
    }
   ],
   "source": [
    "42 + 5 + * 2"
   ]
  },
  {
   "cell_type": "code",
   "execution_count": 9,
   "id": "centered-march",
   "metadata": {},
   "outputs": [
    {
     "data": {
      "text/plain": [
       "'AliceAliceAliceAliceAlice'"
      ]
     },
     "execution_count": 9,
     "metadata": {},
     "output_type": "execute_result"
    }
   ],
   "source": [
    "'Alice' *5"
   ]
  },
  {
   "cell_type": "code",
   "execution_count": 3,
   "id": "supported-sweet",
   "metadata": {},
   "outputs": [],
   "source": [
    "spam = 40"
   ]
  },
  {
   "cell_type": "code",
   "execution_count": 4,
   "id": "lucky-mystery",
   "metadata": {},
   "outputs": [
    {
     "data": {
      "text/plain": [
       "40"
      ]
     },
     "execution_count": 4,
     "metadata": {},
     "output_type": "execute_result"
    }
   ],
   "source": [
    "spam\n"
   ]
  },
  {
   "cell_type": "markdown",
   "id": "american-groove",
   "metadata": {},
   "source": [
    "My First Program"
   ]
  },
  {
   "cell_type": "code",
   "execution_count": 1,
   "id": "fitting-kansas",
   "metadata": {},
   "outputs": [
    {
     "name": "stdout",
     "output_type": "stream",
     "text": [
      "Hello, world!\n",
      "What is your name?\n",
      "ahmet\n",
      "It is good to meet you, ahmet\n",
      "The length of your name is:\n",
      "5\n",
      "What is your age?\n",
      "6\n",
      "You will be 7 in a year.\n"
     ]
    }
   ],
   "source": [
    " print('Hello, world!')\n",
    "print('What is your name?')    # ask for their name\n",
    "myName = input()\n",
    "print('It is good to meet you, ' + myName)\n",
    "print('The length of your name is:')\n",
    "print(len(myName))\n",
    "print('What is your age?')    # ask for their age\n",
    "myAge = input()\n",
    "print('You will be ' + str(int(myAge) + 1) + ' in a year.')"
   ]
  },
  {
   "cell_type": "markdown",
   "id": "twelve-exception",
   "metadata": {},
   "source": [
    "# Chapter 1 - Practice Questions 1-10\n"
   ]
  },
  {
   "cell_type": "markdown",
   "id": "external-procurement",
   "metadata": {},
   "source": [
    "Question 1"
   ]
  },
  {
   "cell_type": "code",
   "execution_count": 2,
   "id": "designing-serbia",
   "metadata": {},
   "outputs": [],
   "source": [
    "a = 'hello'\n",
    "b = -88.8\n",
    "c = 5"
   ]
  },
  {
   "cell_type": "markdown",
   "id": "brief-longitude",
   "metadata": {},
   "source": [
    "Values: -88.8, 5\n",
    "Operators: +, -, /, *\n",
    "Store Strings: hello\n",
    "Floating point number:-88.8\n",
    "Integer: 5"
   ]
  },
  {
   "cell_type": "markdown",
   "id": "every-broadway",
   "metadata": {},
   "source": [
    "a + b #for example, a+b is an expression, a and b are values, + is the operator"
   ]
  },
  {
   "cell_type": "markdown",
   "id": "nonprofit-system",
   "metadata": {},
   "source": [
    "Question 2"
   ]
  },
  {
   "cell_type": "markdown",
   "id": "chemical-january",
   "metadata": {},
   "source": [
    "spam is a variable\n",
    "'spam' is a string\n"
   ]
  },
  {
   "cell_type": "markdown",
   "id": "fresh-robinson",
   "metadata": {},
   "source": [
    "Question 3"
   ]
  },
  {
   "cell_type": "markdown",
   "id": "ultimate-pillow",
   "metadata": {},
   "source": [
    "3 Data types:\n",
    "'str' 'int' 'float'"
   ]
  },
  {
   "cell_type": "markdown",
   "id": "genetic-pride",
   "metadata": {},
   "source": [
    "Question 4"
   ]
  },
  {
   "cell_type": "markdown",
   "id": "qualified-consistency",
   "metadata": {},
   "source": [
    "Expression = 4+2 in this example + is an operator. Valus and operators creates expressions."
   ]
  },
  {
   "cell_type": "markdown",
   "id": "raising-secondary",
   "metadata": {},
   "source": [
    "Question 5"
   ]
  },
  {
   "cell_type": "markdown",
   "id": "choice-center",
   "metadata": {},
   "source": [
    "Expression results in as a certain value by functioning through operators,on the other hand statement functions as a variable."
   ]
  },
  {
   "cell_type": "markdown",
   "id": "addressed-recipient",
   "metadata": {},
   "source": [
    "Question 6"
   ]
  },
  {
   "cell_type": "code",
   "execution_count": 4,
   "id": "stone-person",
   "metadata": {},
   "outputs": [
    {
     "data": {
      "text/plain": [
       "21"
      ]
     },
     "execution_count": 4,
     "metadata": {},
     "output_type": "execute_result"
    }
   ],
   "source": [
    "bacon = 20\n",
    "bacon + 1"
   ]
  },
  {
   "cell_type": "code",
   "execution_count": 5,
   "id": "danish-momentum",
   "metadata": {},
   "outputs": [
    {
     "data": {
      "text/plain": [
       "20"
      ]
     },
     "execution_count": 5,
     "metadata": {},
     "output_type": "execute_result"
    }
   ],
   "source": [
    "bacon"
   ]
  },
  {
   "cell_type": "markdown",
   "id": "foster-athletics",
   "metadata": {},
   "source": [
    "Question 7 "
   ]
  },
  {
   "cell_type": "code",
   "execution_count": 6,
   "id": "pressed-somalia",
   "metadata": {},
   "outputs": [
    {
     "data": {
      "text/plain": [
       "'spamspamspam'"
      ]
     },
     "execution_count": 6,
     "metadata": {},
     "output_type": "execute_result"
    }
   ],
   "source": [
    "'spam'+'spamspam'"
   ]
  },
  {
   "cell_type": "markdown",
   "id": "accepting-thompson",
   "metadata": {},
   "source": [
    "Question 8"
   ]
  },
  {
   "cell_type": "markdown",
   "id": "informational-savings",
   "metadata": {},
   "source": [
    "100 is an example of an ınteger value. Integer value = certain value. Variable names could not start with a number."
   ]
  },
  {
   "cell_type": "markdown",
   "id": "confidential-valley",
   "metadata": {},
   "source": [
    "Question 9"
   ]
  },
  {
   "cell_type": "markdown",
   "id": "planned-filing",
   "metadata": {},
   "source": [
    "int(), float(), str()"
   ]
  },
  {
   "cell_type": "code",
   "execution_count": 13,
   "id": "creative-shareware",
   "metadata": {},
   "outputs": [
    {
     "data": {
      "text/plain": [
       "2"
      ]
     },
     "execution_count": 13,
     "metadata": {},
     "output_type": "execute_result"
    }
   ],
   "source": [
    "int(2.5)"
   ]
  },
  {
   "cell_type": "code",
   "execution_count": 15,
   "id": "simplified-contest",
   "metadata": {},
   "outputs": [
    {
     "data": {
      "text/plain": [
       "5.0"
      ]
     },
     "execution_count": 15,
     "metadata": {},
     "output_type": "execute_result"
    }
   ],
   "source": [
    "float(5)"
   ]
  },
  {
   "cell_type": "code",
   "execution_count": 17,
   "id": "severe-force",
   "metadata": {},
   "outputs": [
    {
     "data": {
      "text/plain": [
       "'3'"
      ]
     },
     "execution_count": 17,
     "metadata": {},
     "output_type": "execute_result"
    }
   ],
   "source": [
    "str(3)"
   ]
  },
  {
   "cell_type": "markdown",
   "id": "assured-concord",
   "metadata": {},
   "source": [
    "Question 10"
   ]
  },
  {
   "cell_type": "markdown",
   "id": "framed-reputation",
   "metadata": {},
   "source": [
    "Due to 99 is a numver it cannot be used as an additive operator with strings"
   ]
  },
  {
   "cell_type": "code",
   "execution_count": 19,
   "id": "diagnostic-flush",
   "metadata": {},
   "outputs": [
    {
     "data": {
      "text/plain": [
       "'I have eaten 99 burritos.'"
      ]
     },
     "execution_count": 19,
     "metadata": {},
     "output_type": "execute_result"
    }
   ],
   "source": [
    "'I have eaten ' + str(99) + ' burritos.'"
   ]
  },
  {
   "cell_type": "markdown",
   "id": "romance-outreach",
   "metadata": {},
   "source": [
    "# Chapter 1 Evaluation"
   ]
  },
  {
   "cell_type": "markdown",
   "id": "unsigned-westminster",
   "metadata": {},
   "source": [
    "After quite an easy set-up process. I had a chance to learn expressions,  interactions as well as basic operation methods which was achived through following the examples in the book. While additive operator is used to connect two strings, strings can be multipled by the integers ('int'. On the other hand, values cannot be assigned by using expression. Morover, statement claims can be used to assign variables and values. "
   ]
  },
  {
   "cell_type": "markdown",
   "id": "suffering-formation",
   "metadata": {},
   "source": [
    "# Chapter 2 - Flow Control"
   ]
  },
  {
   "cell_type": "markdown",
   "id": "minimal-cigarette",
   "metadata": {},
   "source": [
    "Question 1 \n",
    "\n",
    "True and False"
   ]
  },
  {
   "cell_type": "markdown",
   "id": "jewish-paper",
   "metadata": {},
   "source": [
    "Question 2 \n",
    "\n",
    "and, or, not"
   ]
  },
  {
   "cell_type": "markdown",
   "id": "returning-columbus",
   "metadata": {},
   "source": [
    "Question 3"
   ]
  },
  {
   "cell_type": "code",
   "execution_count": 2,
   "id": "racial-brooks",
   "metadata": {},
   "outputs": [
    {
     "data": {
      "text/plain": [
       "False"
      ]
     },
     "execution_count": 2,
     "metadata": {},
     "output_type": "execute_result"
    }
   ],
   "source": [
    "True and False"
   ]
  },
  {
   "cell_type": "code",
   "execution_count": 9,
   "id": "efficient-murder",
   "metadata": {},
   "outputs": [
    {
     "data": {
      "text/plain": [
       "False"
      ]
     },
     "execution_count": 9,
     "metadata": {},
     "output_type": "execute_result"
    }
   ],
   "source": [
    "False and True"
   ]
  },
  {
   "cell_type": "code",
   "execution_count": 4,
   "id": "grave-relation",
   "metadata": {},
   "outputs": [
    {
     "data": {
      "text/plain": [
       "True"
      ]
     },
     "execution_count": 4,
     "metadata": {},
     "output_type": "execute_result"
    }
   ],
   "source": [
    "True and True"
   ]
  },
  {
   "cell_type": "code",
   "execution_count": 10,
   "id": "accessory-mechanism",
   "metadata": {},
   "outputs": [
    {
     "data": {
      "text/plain": [
       "False"
      ]
     },
     "execution_count": 10,
     "metadata": {},
     "output_type": "execute_result"
    }
   ],
   "source": [
    "False and False"
   ]
  },
  {
   "cell_type": "code",
   "execution_count": 5,
   "id": "enclosed-liverpool",
   "metadata": {},
   "outputs": [
    {
     "data": {
      "text/plain": [
       "True"
      ]
     },
     "execution_count": 5,
     "metadata": {},
     "output_type": "execute_result"
    }
   ],
   "source": [
    "True or False"
   ]
  },
  {
   "cell_type": "code",
   "execution_count": 11,
   "id": "simplified-martin",
   "metadata": {},
   "outputs": [
    {
     "data": {
      "text/plain": [
       "True"
      ]
     },
     "execution_count": 11,
     "metadata": {},
     "output_type": "execute_result"
    }
   ],
   "source": [
    "False or True"
   ]
  },
  {
   "cell_type": "code",
   "execution_count": 12,
   "id": "traditional-assignment",
   "metadata": {},
   "outputs": [
    {
     "data": {
      "text/plain": [
       "True"
      ]
     },
     "execution_count": 12,
     "metadata": {},
     "output_type": "execute_result"
    }
   ],
   "source": [
    "True or True"
   ]
  },
  {
   "cell_type": "code",
   "execution_count": 7,
   "id": "searching-rolling",
   "metadata": {},
   "outputs": [
    {
     "data": {
      "text/plain": [
       "False"
      ]
     },
     "execution_count": 7,
     "metadata": {},
     "output_type": "execute_result"
    }
   ],
   "source": [
    "not True"
   ]
  },
  {
   "cell_type": "code",
   "execution_count": 8,
   "id": "ordinary-roman",
   "metadata": {},
   "outputs": [
    {
     "data": {
      "text/plain": [
       "True"
      ]
     },
     "execution_count": 8,
     "metadata": {},
     "output_type": "execute_result"
    }
   ],
   "source": [
    "not False"
   ]
  },
  {
   "cell_type": "markdown",
   "id": "hourly-array",
   "metadata": {},
   "source": [
    "Question 4\n"
   ]
  },
  {
   "cell_type": "code",
   "execution_count": 13,
   "id": "hindu-visitor",
   "metadata": {},
   "outputs": [
    {
     "data": {
      "text/plain": [
       "False"
      ]
     },
     "execution_count": 13,
     "metadata": {},
     "output_type": "execute_result"
    }
   ],
   "source": [
    "(5 > 4) and (3 == 5)"
   ]
  },
  {
   "cell_type": "code",
   "execution_count": 14,
   "id": "fiscal-student",
   "metadata": {},
   "outputs": [
    {
     "data": {
      "text/plain": [
       "False"
      ]
     },
     "execution_count": 14,
     "metadata": {},
     "output_type": "execute_result"
    }
   ],
   "source": [
    "not (5 > 4) "
   ]
  },
  {
   "cell_type": "code",
   "execution_count": 15,
   "id": "devoted-wrapping",
   "metadata": {},
   "outputs": [
    {
     "data": {
      "text/plain": [
       "True"
      ]
     },
     "execution_count": 15,
     "metadata": {},
     "output_type": "execute_result"
    }
   ],
   "source": [
    "(5 > 4) or (3 == 5)"
   ]
  },
  {
   "cell_type": "code",
   "execution_count": 16,
   "id": "abandoned-optimization",
   "metadata": {},
   "outputs": [
    {
     "data": {
      "text/plain": [
       "False"
      ]
     },
     "execution_count": 16,
     "metadata": {},
     "output_type": "execute_result"
    }
   ],
   "source": [
    "not ((5 > 4) or (3 == 5))"
   ]
  },
  {
   "cell_type": "code",
   "execution_count": 17,
   "id": "knowing-intention",
   "metadata": {},
   "outputs": [
    {
     "data": {
      "text/plain": [
       "False"
      ]
     },
     "execution_count": 17,
     "metadata": {},
     "output_type": "execute_result"
    }
   ],
   "source": [
    "(True and True) and (True == False)"
   ]
  },
  {
   "cell_type": "code",
   "execution_count": 18,
   "id": "molecular-value",
   "metadata": {},
   "outputs": [
    {
     "data": {
      "text/plain": [
       "True"
      ]
     },
     "execution_count": 18,
     "metadata": {},
     "output_type": "execute_result"
    }
   ],
   "source": [
    "(not False) or (not True)"
   ]
  },
  {
   "cell_type": "markdown",
   "id": "waiting-drink",
   "metadata": {},
   "source": [
    "Question 5\n",
    "\n",
    ">=, <= , >, <,==,!="
   ]
  },
  {
   "cell_type": "markdown",
   "id": "antique-spotlight",
   "metadata": {},
   "source": [
    "Question 6 \n",
    "\n",
    "Boolean Operator which compares two values is represented by == , on the other hand, = is a variable and defines a value."
   ]
  },
  {
   "cell_type": "markdown",
   "id": "impaired-vancouver",
   "metadata": {},
   "source": [
    "Question 7\n",
    "\n",
    "\n",
    "Boolean value could be evaluated by the condition."
   ]
  },
  {
   "cell_type": "markdown",
   "id": "mineral-offense",
   "metadata": {},
   "source": [
    "Question 8\n",
    "\n",
    "Block 1: print('eggs') if spam > 5: print('bacon') else: print('ham') print('spam')\n",
    "\n",
    "Block 2: print('bacon')\n",
    "\n",
    "Block 3: print('ham')\n"
   ]
  },
  {
   "cell_type": "markdown",
   "id": "radical-consortium",
   "metadata": {},
   "source": [
    "Question 9"
   ]
  },
  {
   "cell_type": "code",
   "execution_count": 22,
   "id": "floppy-atmosphere",
   "metadata": {},
   "outputs": [
    {
     "name": "stdout",
     "output_type": "stream",
     "text": [
      "1\n",
      "Greetings!\n"
     ]
    }
   ],
   "source": [
    "spam = input()\n",
    "\n",
    "if spam == 1:\n",
    "    print('Hello')\n",
    "elif spam == 2:\n",
    "    print('Howdy')\n",
    "else:\n",
    "    print('Greetings!')"
   ]
  },
  {
   "cell_type": "markdown",
   "id": "stylish-blame",
   "metadata": {},
   "source": [
    "Question 10\n",
    "\n",
    "ctrl + c"
   ]
  },
  {
   "cell_type": "markdown",
   "id": "prostate-price",
   "metadata": {},
   "source": [
    "Question 11"
   ]
  },
  {
   "cell_type": "code",
   "execution_count": 24,
   "id": "amber-carter",
   "metadata": {},
   "outputs": [
    {
     "name": "stdout",
     "output_type": "stream",
     "text": [
      "1\n",
      "2\n",
      "4\n",
      "5\n"
     ]
    }
   ],
   "source": [
    "a = 0\n",
    "while a < 5:\n",
    "    a +=1\n",
    "    if a == 3:\n",
    "        continue\n",
    "    print(a)\n",
    "    if a == 5:\n",
    "        break"
   ]
  },
  {
   "cell_type": "markdown",
   "id": "elder-identification",
   "metadata": {},
   "source": [
    "Question 12\n",
    "\n",
    "In terms of received result, they are all the same. "
   ]
  },
  {
   "cell_type": "code",
   "execution_count": 25,
   "id": "super-directive",
   "metadata": {},
   "outputs": [
    {
     "data": {
      "text/plain": [
       "True"
      ]
     },
     "execution_count": 25,
     "metadata": {},
     "output_type": "execute_result"
    }
   ],
   "source": [
    "range(10)==range(0,10)\n"
   ]
  },
  {
   "cell_type": "code",
   "execution_count": 26,
   "id": "experimental-thanks",
   "metadata": {},
   "outputs": [
    {
     "data": {
      "text/plain": [
       "True"
      ]
     },
     "execution_count": 26,
     "metadata": {},
     "output_type": "execute_result"
    }
   ],
   "source": [
    "range(10)==range(0,10,1)"
   ]
  },
  {
   "cell_type": "markdown",
   "id": "competitive-sperm",
   "metadata": {},
   "source": [
    "Question 13"
   ]
  },
  {
   "cell_type": "code",
   "execution_count": 28,
   "id": "personal-geneva",
   "metadata": {},
   "outputs": [
    {
     "name": "stdout",
     "output_type": "stream",
     "text": [
      "1\n",
      "2\n",
      "3\n",
      "4\n",
      "5\n",
      "6\n",
      "7\n",
      "8\n",
      "9\n",
      "10\n"
     ]
    }
   ],
   "source": [
    "for i in range(1,11):\n",
    "    print(i)"
   ]
  },
  {
   "cell_type": "code",
   "execution_count": 29,
   "id": "actual-lawyer",
   "metadata": {},
   "outputs": [
    {
     "name": "stdout",
     "output_type": "stream",
     "text": [
      "1\n",
      "2\n",
      "3\n",
      "4\n",
      "5\n",
      "6\n",
      "7\n",
      "8\n",
      "9\n",
      "10\n"
     ]
    }
   ],
   "source": [
    "i =0\n",
    "while i <10:\n",
    "    i = i +1\n",
    "    print(i)"
   ]
  },
  {
   "cell_type": "markdown",
   "id": "copyrighted-calculation",
   "metadata": {},
   "source": [
    "Question 14\n",
    "\n",
    "spam.bacon()"
   ]
  },
  {
   "cell_type": "markdown",
   "id": "combined-dialogue",
   "metadata": {},
   "source": [
    "# Chapter 2 Evaluation\n",
    "\n",
    "In this chapter, I have learned about evaluative expressions and how to create complex functions which was achived though flow control.In this chapter, I found it challanging to understand the differences between = and == as == is used to compare between variable and values, it was not easy to sport the different use of the two identifiers. On the other hand, in several attempts and looking for solutions onine, I was able to understand prioritizing Boolean operators as using different operators requires careful inspection during the process. To sum up, after this chapter I am familier with the concepts of creating \"skip\" and \"execute\" code and apply it in a loop as well as break and continue statements. "
   ]
  },
  {
   "cell_type": "markdown",
   "id": "supposed-colony",
   "metadata": {},
   "source": [
    "# Chapter 3 - Functions"
   ]
  },
  {
   "cell_type": "markdown",
   "id": "refined-privilege",
   "metadata": {},
   "source": [
    "Question 1\n",
    "\n",
    "By using functions, we can avoid wrting duplicated strings and it allows program to be shorter, easier to understand and read, if necessery; correct its errors. "
   ]
  },
  {
   "cell_type": "markdown",
   "id": "dirty-keyboard",
   "metadata": {},
   "source": [
    "Quetion 2\n",
    "\n",
    "if the function is called then it is exceuted."
   ]
  },
  {
   "cell_type": "markdown",
   "id": "convertible-affairs",
   "metadata": {},
   "source": [
    "Question 3\n",
    "\n",
    "def statement\n"
   ]
  },
  {
   "cell_type": "markdown",
   "id": "copyrighted-filter",
   "metadata": {},
   "source": [
    "Question 4\n",
    "\n",
    "Fucntion: it includes def statements and operatiions.\n",
    "Fucntion call: it is the execution of the program which reults in with an end value."
   ]
  },
  {
   "cell_type": "markdown",
   "id": "adjustable-italian",
   "metadata": {},
   "source": [
    "Question 5\n",
    "\n",
    "Global scope number: 1\n",
    "\n",
    "Local scope number: the number of def functions determines it.\n"
   ]
  },
  {
   "cell_type": "markdown",
   "id": "accredited-amount",
   "metadata": {},
   "source": [
    "Question 6\n",
    "\n",
    "Variables of local scope is lost when the fucntion call returns.\n"
   ]
  },
  {
   "cell_type": "code",
   "execution_count": 31,
   "id": "august-think",
   "metadata": {},
   "outputs": [
    {
     "data": {
      "text/plain": [
       "13"
      ]
     },
     "execution_count": 31,
     "metadata": {},
     "output_type": "execute_result"
    }
   ],
   "source": [
    "def sumup(loc_a,loc_b):\n",
    "    return loc_a+loc_b\n",
    "sumup(4,9)"
   ]
  },
  {
   "cell_type": "markdown",
   "id": "saving-notebook",
   "metadata": {},
   "source": [
    "Question 7\n",
    "\n",
    "Retun value: it is the result of global function call, it can be part of an expression."
   ]
  },
  {
   "cell_type": "code",
   "execution_count": 36,
   "id": "senior-roommate",
   "metadata": {},
   "outputs": [
    {
     "data": {
      "text/plain": [
       "20"
      ]
     },
     "execution_count": 36,
     "metadata": {},
     "output_type": "execute_result"
    }
   ],
   "source": [
    "4 + sumup(7,9) #return value is 20."
   ]
  },
  {
   "cell_type": "markdown",
   "id": "unavailable-glasgow",
   "metadata": {},
   "source": [
    "Question 8\n",
    "\n",
    "The return value od a call to that function is None."
   ]
  },
  {
   "cell_type": "code",
   "execution_count": 38,
   "id": "average-prairie",
   "metadata": {
    "scrolled": true
   },
   "outputs": [
    {
     "name": "stdout",
     "output_type": "stream",
     "text": [
      "10\n",
      "None\n"
     ]
    }
   ],
   "source": [
    "def return_none(a,v):\n",
    "    print(a+v)\n",
    "print(return_none(4,6))"
   ]
  },
  {
   "cell_type": "markdown",
   "id": "cosmetic-exclusive",
   "metadata": {},
   "source": [
    "Question 9\n",
    "\n",
    "When claiming a statement, by not defining a local variable name same as global varriable. \n"
   ]
  },
  {
   "cell_type": "code",
   "execution_count": 49,
   "id": "silver-phase",
   "metadata": {},
   "outputs": [
    {
     "data": {
      "text/plain": [
       "13"
      ]
     },
     "execution_count": 49,
     "metadata": {},
     "output_type": "execute_result"
    }
   ],
   "source": [
    "c = 7\n",
    "def sumup(c,n):\n",
    "    return c+n\n",
    "sumup(4,9)"
   ]
  },
  {
   "cell_type": "code",
   "execution_count": 50,
   "id": "included-mistake",
   "metadata": {},
   "outputs": [
    {
     "data": {
      "text/plain": [
       "16"
      ]
     },
     "execution_count": 50,
     "metadata": {},
     "output_type": "execute_result"
    }
   ],
   "source": [
    "def sumup_c(n):\n",
    "    return c+n\n",
    "sumup_c(9)"
   ]
  },
  {
   "cell_type": "markdown",
   "id": "victorian-liver",
   "metadata": {},
   "source": [
    "Question 10\n",
    "\n",
    "Nonetype"
   ]
  },
  {
   "cell_type": "code",
   "execution_count": 51,
   "id": "textile-patient",
   "metadata": {},
   "outputs": [
    {
     "data": {
      "text/plain": [
       "NoneType"
      ]
     },
     "execution_count": 51,
     "metadata": {},
     "output_type": "execute_result"
    }
   ],
   "source": [
    "type(None)\n"
   ]
  },
  {
   "cell_type": "markdown",
   "id": "worth-touch",
   "metadata": {},
   "source": [
    "Question 11\n",
    "\n",
    "All the module from areallyourpetsnamederic is imported through import areallyourpetsnamederic statement.\n"
   ]
  },
  {
   "cell_type": "markdown",
   "id": "strange-beads",
   "metadata": {},
   "source": [
    "Question 12\n",
    "\n",
    "spam.bacon()\n"
   ]
  },
  {
   "cell_type": "markdown",
   "id": "flying-cherry",
   "metadata": {},
   "source": [
    "Question 13\n",
    "\n",
    "Try can be used to prevent program from crashing.\n"
   ]
  },
  {
   "cell_type": "code",
   "execution_count": 54,
   "id": "bronze-dictionary",
   "metadata": {},
   "outputs": [
    {
     "name": "stdout",
     "output_type": "stream",
     "text": [
      "you attempted to devide 8 by zero\n",
      "8.0\n",
      "4.0\n",
      "2.6666666666666665\n",
      "2.0\n",
      "1.6\n",
      "1.3333333333333333\n",
      "1.1428571428571428\n"
     ]
    }
   ],
   "source": [
    "for a in range(8):\n",
    "    try:\n",
    "        print(8/a)\n",
    "    except:\n",
    "        print('you attempted to devide 8 by zero')"
   ]
  },
  {
   "cell_type": "markdown",
   "id": "controlled-catalog",
   "metadata": {},
   "source": [
    "Question 14\n",
    "\n",
    "Until the first exception is encountered the try clause is executed, inside the except clause, it refers to the except clause and detemines how the program responds to that exception."
   ]
  },
  {
   "cell_type": "markdown",
   "id": "danish-caution",
   "metadata": {},
   "source": [
    "# Chapter 3 - Evaluation \n",
    "\n",
    "In this chapter, I learnt about how executions can be replaced by the functions as it replaces exausting program wiritng to an efficient way of code executing. Checking varriable names in local and global directory was one of the challange that I afced in this chapter. Distinct local scopes can use the same  name while reffering different varriables. While global and local varriables can pottentially share the same name, the statement claim should refer to the local varriable. It is ssential to watch out for this point. In this chapter, I understood how the functions can be used to organized the code. Also, try and except statements are useful in the case of program crash as they can be used to determine the cause of the problem. "
   ]
  },
  {
   "cell_type": "markdown",
   "id": "radical-diabetes",
   "metadata": {},
   "source": [
    "# Chapter 4 - Lists "
   ]
  },
  {
   "cell_type": "markdown",
   "id": "funny-international",
   "metadata": {},
   "source": [
    "Question 1\n",
    "\n",
    "[] is an empty list that contains no elemets.\n"
   ]
  },
  {
   "cell_type": "code",
   "execution_count": 2,
   "id": "manufactured-diving",
   "metadata": {},
   "outputs": [
    {
     "data": {
      "text/plain": [
       "0"
      ]
     },
     "execution_count": 2,
     "metadata": {},
     "output_type": "execute_result"
    }
   ],
   "source": [
    "len ([])"
   ]
  },
  {
   "cell_type": "markdown",
   "id": "limited-masters",
   "metadata": {},
   "source": [
    "Question 2 \n"
   ]
  },
  {
   "cell_type": "code",
   "execution_count": 3,
   "id": "challenging-cream",
   "metadata": {},
   "outputs": [
    {
     "data": {
      "text/plain": [
       "[2, 4, 6, 8, 10]"
      ]
     },
     "execution_count": 3,
     "metadata": {},
     "output_type": "execute_result"
    }
   ],
   "source": [
    "spam = [2,4,6,8,10]\n",
    "spam"
   ]
  },
  {
   "cell_type": "code",
   "execution_count": 4,
   "id": "alleged-compilation",
   "metadata": {},
   "outputs": [],
   "source": [
    "spam[4] = 'hello'"
   ]
  },
  {
   "cell_type": "code",
   "execution_count": 5,
   "id": "extraordinary-found",
   "metadata": {},
   "outputs": [
    {
     "data": {
      "text/plain": [
       "[2, 4, 6, 8, 'hello']"
      ]
     },
     "execution_count": 5,
     "metadata": {},
     "output_type": "execute_result"
    }
   ],
   "source": [
    "spam\n"
   ]
  },
  {
   "cell_type": "markdown",
   "id": "lesbian-operator",
   "metadata": {},
   "source": [
    "Question 3"
   ]
  },
  {
   "cell_type": "code",
   "execution_count": 8,
   "id": "latin-heather",
   "metadata": {},
   "outputs": [
    {
     "data": {
      "text/plain": [
       "8"
      ]
     },
     "execution_count": 8,
     "metadata": {},
     "output_type": "execute_result"
    }
   ],
   "source": [
    "spam[int(int('3' * 2) // 11)]"
   ]
  },
  {
   "cell_type": "markdown",
   "id": "sporting-citation",
   "metadata": {},
   "source": [
    "int() is converted 'str' to 'ınt'"
   ]
  },
  {
   "cell_type": "markdown",
   "id": "dedicated-renewal",
   "metadata": {},
   "source": [
    "Question 4"
   ]
  },
  {
   "cell_type": "code",
   "execution_count": 16,
   "id": "played-garden",
   "metadata": {},
   "outputs": [
    {
     "name": "stdout",
     "output_type": "stream",
     "text": [
      "4\n",
      "8\n"
     ]
    }
   ],
   "source": [
    "print(spam[-4])\n",
    "print(spam[-2])\n",
    "    "
   ]
  },
  {
   "cell_type": "markdown",
   "id": "governmental-collectible",
   "metadata": {},
   "source": [
    "Question 5"
   ]
  },
  {
   "cell_type": "code",
   "execution_count": 17,
   "id": "usual-swift",
   "metadata": {},
   "outputs": [
    {
     "data": {
      "text/plain": [
       "[2, 4]"
      ]
     },
     "execution_count": 17,
     "metadata": {},
     "output_type": "execute_result"
    }
   ],
   "source": [
    "spam[:2] "
   ]
  },
  {
   "cell_type": "markdown",
   "id": "rational-homework",
   "metadata": {},
   "source": [
    "Question 6"
   ]
  },
  {
   "cell_type": "code",
   "execution_count": 18,
   "id": "mounted-transcript",
   "metadata": {},
   "outputs": [
    {
     "data": {
      "text/plain": [
       "[3.14, 'cat', 11, 'cat', True]"
      ]
     },
     "execution_count": 18,
     "metadata": {},
     "output_type": "execute_result"
    }
   ],
   "source": [
    "bacon = [3.14, 'cat', 11, 'cat', True]\n",
    "bacon"
   ]
  },
  {
   "cell_type": "code",
   "execution_count": 19,
   "id": "heated-benchmark",
   "metadata": {},
   "outputs": [
    {
     "data": {
      "text/plain": [
       "1"
      ]
     },
     "execution_count": 19,
     "metadata": {},
     "output_type": "execute_result"
    }
   ],
   "source": [
    "bacon.index('cat')"
   ]
  },
  {
   "cell_type": "markdown",
   "id": "boxed-bowling",
   "metadata": {},
   "source": [
    "Question 7"
   ]
  },
  {
   "cell_type": "code",
   "execution_count": 24,
   "id": "human-encoding",
   "metadata": {},
   "outputs": [],
   "source": [
    "bacon.append(99)\n"
   ]
  },
  {
   "cell_type": "code",
   "execution_count": 26,
   "id": "orange-delicious",
   "metadata": {},
   "outputs": [
    {
     "data": {
      "text/plain": [
       "[3.14, 'cat', 11, 'cat', True, 99, 65, 99]"
      ]
     },
     "execution_count": 26,
     "metadata": {},
     "output_type": "execute_result"
    }
   ],
   "source": [
    "bacon"
   ]
  },
  {
   "cell_type": "markdown",
   "id": "impossible-strengthening",
   "metadata": {},
   "source": [
    "Question 8"
   ]
  },
  {
   "cell_type": "code",
   "execution_count": 28,
   "id": "angry-workstation",
   "metadata": {},
   "outputs": [],
   "source": [
    "bacon.remove('cat')"
   ]
  },
  {
   "cell_type": "code",
   "execution_count": 29,
   "id": "stuck-motion",
   "metadata": {},
   "outputs": [
    {
     "data": {
      "text/plain": [
       "[3.14, 11, True, 99, 65, 99]"
      ]
     },
     "execution_count": 29,
     "metadata": {},
     "output_type": "execute_result"
    }
   ],
   "source": [
    "bacon"
   ]
  },
  {
   "cell_type": "markdown",
   "id": "cooked-operation",
   "metadata": {},
   "source": [
    "Question 9"
   ]
  },
  {
   "cell_type": "markdown",
   "id": "amazing-complaint",
   "metadata": {},
   "source": [
    "List concentartion operator list: +\n",
    "List replication operator list: *"
   ]
  },
  {
   "cell_type": "markdown",
   "id": "conscious-exhibition",
   "metadata": {},
   "source": [
    "Question 10\n",
    "\n",
    "insert can be used in any desired place in the code: insert()\n",
    "\n",
    "append can be only used in the end of a list: append()"
   ]
  },
  {
   "cell_type": "markdown",
   "id": "leading-harris",
   "metadata": {},
   "source": [
    "Question 11 \n",
    "\n",
    "remove() and del statements can be used  remove values from a list\n"
   ]
  },
  {
   "cell_type": "markdown",
   "id": "polish-latin",
   "metadata": {},
   "source": [
    "Question 12\n",
    "\n",
    "Having a determined len() is the common feature pf strıng and list, in this case a desired element cna be placed in a loop."
   ]
  },
  {
   "cell_type": "code",
   "execution_count": 30,
   "id": "chronic-parallel",
   "metadata": {},
   "outputs": [
    {
     "name": "stdout",
     "output_type": "stream",
     "text": [
      "a\n",
      "h\n",
      "m\n",
      "e\n",
      "t\n"
     ]
    }
   ],
   "source": [
    "for i in 'ahmet':\n",
    "    print(i)"
   ]
  },
  {
   "cell_type": "code",
   "execution_count": 35,
   "id": "grave-drain",
   "metadata": {},
   "outputs": [
    {
     "name": "stdout",
     "output_type": "stream",
     "text": [
      "a\n",
      "b\n",
      "c\n"
     ]
    }
   ],
   "source": [
    "for i in ['a','b','c']:\n",
    "    print(i)"
   ]
  },
  {
   "cell_type": "markdown",
   "id": "public-screening",
   "metadata": {},
   "source": [
    "Question 13\n",
    "\n",
    "By changing the values, the lists can be edited, on the other hand, the values of tuples cannot be edited."
   ]
  },
  {
   "cell_type": "markdown",
   "id": "another-female",
   "metadata": {},
   "source": [
    "Question 14"
   ]
  },
  {
   "cell_type": "code",
   "execution_count": 1,
   "id": "studied-malawi",
   "metadata": {},
   "outputs": [
    {
     "data": {
      "text/plain": [
       "(42,)"
      ]
     },
     "execution_count": 1,
     "metadata": {},
     "output_type": "execute_result"
    }
   ],
   "source": [
    "(42,)"
   ]
  },
  {
   "cell_type": "markdown",
   "id": "magnetic-livestock",
   "metadata": {},
   "source": [
    "Question 15"
   ]
  },
  {
   "cell_type": "code",
   "execution_count": 11,
   "id": "determined-ready",
   "metadata": {},
   "outputs": [
    {
     "name": "stdout",
     "output_type": "stream",
     "text": [
      "List elements :  [565, 'ask', 'yellow', 'zuck']\n"
     ]
    }
   ],
   "source": [
    "aTuple = (565, 'ask', 'yellow', 'zuck');\n",
    "aList = list(aTuple)\n",
    "print (\"List elements : \", aList)"
   ]
  },
  {
   "cell_type": "markdown",
   "id": "honey-robin",
   "metadata": {},
   "source": [
    "Question 16\n",
    "\n",
    "They contain the list value refferences"
   ]
  },
  {
   "cell_type": "markdown",
   "id": "medium-palace",
   "metadata": {},
   "source": [
    "Question 17"
   ]
  },
  {
   "cell_type": "code",
   "execution_count": 12,
   "id": "civilian-processing",
   "metadata": {},
   "outputs": [],
   "source": [
    "import copy"
   ]
  },
  {
   "cell_type": "code",
   "execution_count": 14,
   "id": "accomplished-grenada",
   "metadata": {},
   "outputs": [
    {
     "name": "stdout",
     "output_type": "stream",
     "text": [
      "[4, 6, 7, 9] [4, 6, 7, 9] [4, 6, 7, 9]\n"
     ]
    }
   ],
   "source": [
    "a = [4,6,7,9]\n",
    "b = a\n",
    "b_c = copy.copy(a)\n",
    "print(a,b,b_c)"
   ]
  },
  {
   "cell_type": "code",
   "execution_count": 16,
   "id": "opposed-maria",
   "metadata": {},
   "outputs": [
    {
     "name": "stdout",
     "output_type": "stream",
     "text": [
      "True False\n"
     ]
    }
   ],
   "source": [
    "print(b is a,b_c is a)"
   ]
  },
  {
   "cell_type": "code",
   "execution_count": 15,
   "id": "unknown-quantity",
   "metadata": {},
   "outputs": [
    {
     "name": "stdout",
     "output_type": "stream",
     "text": [
      "True True\n"
     ]
    }
   ],
   "source": [
    "print(b == a, b_c == a)"
   ]
  },
  {
   "cell_type": "code",
   "execution_count": 17,
   "id": "clean-victory",
   "metadata": {},
   "outputs": [
    {
     "name": "stdout",
     "output_type": "stream",
     "text": [
      "[4, 6, 7, 9, 5] [4, 6, 7, 9, 5] [4, 6, 7, 9]\n",
      "True False\n"
     ]
    }
   ],
   "source": [
    "a.append(5)\n",
    "print(a,b,b_c)\n",
    "print(a == b, a== b_c)"
   ]
  },
  {
   "cell_type": "code",
   "execution_count": 20,
   "id": "vulnerable-defensive",
   "metadata": {},
   "outputs": [
    {
     "name": "stdout",
     "output_type": "stream",
     "text": [
      "['a', ['b', 'c']] ['a', ['b', 'c']] ['a', ['b', 'c']]\n",
      "True True\n",
      "False False\n"
     ]
    }
   ],
   "source": [
    "c = ['a',['b','c']]\n",
    "e = copy.copy(c)\n",
    "f = copy.deepcopy(c)\n",
    "print(c,e,f)\n",
    "print(c == e, c==f)\n",
    "print(c is e, c is f)"
   ]
  },
  {
   "cell_type": "code",
   "execution_count": 19,
   "id": "terminal-principle",
   "metadata": {},
   "outputs": [
    {
     "name": "stdout",
     "output_type": "stream",
     "text": [
      "['a', ['b', 1]] ['a', ['b', 1]] ['a', ['b', 'c']]\n",
      "True False\n"
     ]
    }
   ],
   "source": [
    "c[1][1] = 1\n",
    "print(c,e,f)\n",
    "print(c == e, c==f)"
   ]
  },
  {
   "cell_type": "markdown",
   "id": "minimal-formation",
   "metadata": {},
   "source": [
    "# Chapter 4 - Evaluation"
   ]
  },
  {
   "cell_type": "markdown",
   "id": "american-excitement",
   "metadata": {},
   "source": [
    "In this chapter I learnt about how is it possible to shorten the code by using list value function. The operators (in and not) can be used to find a file in the list value. Mutable data type: list value ; immutable data type: string. Tuple Data type: writtin with (-). This chapter wa sinteresting as it gives and idea about data storage and how to retrieve data. While index always start from 0 value which is also the first element. While using loop function, variables should stay in index range. This chapter was really challanging to understand and move forward as it required mathematical knowledge.  "
   ]
  },
  {
   "cell_type": "markdown",
   "id": "sweet-welsh",
   "metadata": {},
   "source": [
    "# Chapter 5 - Dictionaries and Structuring Data"
   ]
  },
  {
   "cell_type": "markdown",
   "id": "common-equation",
   "metadata": {},
   "source": [
    "Dictionary data type which could be used to organize items."
   ]
  },
  {
   "cell_type": "markdown",
   "id": "therapeutic-framework",
   "metadata": {},
   "source": [
    "Question 1"
   ]
  },
  {
   "cell_type": "code",
   "execution_count": 28,
   "id": "rolled-athletics",
   "metadata": {},
   "outputs": [
    {
     "data": {
      "text/plain": [
       "{}"
      ]
     },
     "execution_count": 28,
     "metadata": {},
     "output_type": "execute_result"
    }
   ],
   "source": [
    "{}"
   ]
  },
  {
   "cell_type": "markdown",
   "id": "joint-isaac",
   "metadata": {},
   "source": [
    "Question 2"
   ]
  },
  {
   "cell_type": "code",
   "execution_count": 29,
   "id": "signed-forge",
   "metadata": {},
   "outputs": [
    {
     "data": {
      "text/plain": [
       "{'foo': 42}"
      ]
     },
     "execution_count": 29,
     "metadata": {},
     "output_type": "execute_result"
    }
   ],
   "source": [
    "dict({'foo':42})"
   ]
  },
  {
   "cell_type": "markdown",
   "id": "welcome-montana",
   "metadata": {},
   "source": [
    "Question 3"
   ]
  },
  {
   "cell_type": "markdown",
   "id": "headed-suggestion",
   "metadata": {},
   "source": [
    "While dicitionary does not have a specific order, the list has an order."
   ]
  },
  {
   "cell_type": "markdown",
   "id": "collective-prompt",
   "metadata": {},
   "source": [
    "Question 4"
   ]
  },
  {
   "cell_type": "code",
   "execution_count": 30,
   "id": "improving-affair",
   "metadata": {},
   "outputs": [
    {
     "data": {
      "text/plain": [
       "{'bar': 100}"
      ]
     },
     "execution_count": 30,
     "metadata": {},
     "output_type": "execute_result"
    }
   ],
   "source": [
    "spam={'bar': 100}\n",
    "spam"
   ]
  },
  {
   "cell_type": "code",
   "execution_count": 32,
   "id": "printable-saint",
   "metadata": {},
   "outputs": [
    {
     "ename": "KeyError",
     "evalue": "'foo'",
     "output_type": "error",
     "traceback": [
      "\u001b[1;31m---------------------------------------------------------------------------\u001b[0m",
      "\u001b[1;31mKeyError\u001b[0m                                  Traceback (most recent call last)",
      "\u001b[1;32m<ipython-input-32-88baeab65d6b>\u001b[0m in \u001b[0;36m<module>\u001b[1;34m\u001b[0m\n\u001b[1;32m----> 1\u001b[1;33m \u001b[0mspam\u001b[0m\u001b[1;33m[\u001b[0m\u001b[1;34m'foo'\u001b[0m\u001b[1;33m]\u001b[0m \u001b[1;31m#we retrieve an error.\u001b[0m\u001b[1;33m\u001b[0m\u001b[1;33m\u001b[0m\u001b[0m\n\u001b[0m",
      "\u001b[1;31mKeyError\u001b[0m: 'foo'"
     ]
    }
   ],
   "source": [
    "spam['foo'] #we retrieve an error."
   ]
  },
  {
   "cell_type": "markdown",
   "id": "impossible-celebrity",
   "metadata": {},
   "source": [
    "Question 5"
   ]
  },
  {
   "cell_type": "code",
   "execution_count": 33,
   "id": "peripheral-ratio",
   "metadata": {},
   "outputs": [],
   "source": [
    "spam={'cat':2,'DD':444}"
   ]
  },
  {
   "cell_type": "code",
   "execution_count": 34,
   "id": "advance-diagnosis",
   "metadata": {},
   "outputs": [
    {
     "data": {
      "text/plain": [
       "True"
      ]
     },
     "execution_count": 34,
     "metadata": {},
     "output_type": "execute_result"
    }
   ],
   "source": [
    "    'cat' in spam"
   ]
  },
  {
   "cell_type": "code",
   "execution_count": 35,
   "id": "broke-custom",
   "metadata": {},
   "outputs": [
    {
     "data": {
      "text/plain": [
       "True"
      ]
     },
     "execution_count": 35,
     "metadata": {},
     "output_type": "execute_result"
    }
   ],
   "source": [
    "'cat' in spam.keys()"
   ]
  },
  {
   "cell_type": "markdown",
   "id": "occupational-copying",
   "metadata": {},
   "source": [
    "Question 6"
   ]
  },
  {
   "cell_type": "code",
   "execution_count": 36,
   "id": "charged-adolescent",
   "metadata": {},
   "outputs": [
    {
     "data": {
      "text/plain": [
       "False"
      ]
     },
     "execution_count": 36,
     "metadata": {},
     "output_type": "execute_result"
    }
   ],
   "source": [
    "'cat' in spam.values()"
   ]
  },
  {
   "cell_type": "markdown",
   "id": "blessed-addiction",
   "metadata": {},
   "source": [
    "Question 7"
   ]
  },
  {
   "cell_type": "code",
   "execution_count": 37,
   "id": "equal-surname",
   "metadata": {},
   "outputs": [
    {
     "data": {
      "text/plain": [
       "'black'"
      ]
     },
     "execution_count": 37,
     "metadata": {},
     "output_type": "execute_result"
    }
   ],
   "source": [
    "spam.setdefault('color', 'black')"
   ]
  },
  {
   "cell_type": "markdown",
   "id": "split-electron",
   "metadata": {},
   "source": [
    "Question 8"
   ]
  },
  {
   "cell_type": "markdown",
   "id": "tropical-thailand",
   "metadata": {},
   "source": [
    "pprint.pprint() function can be used.\n"
   ]
  },
  {
   "cell_type": "markdown",
   "id": "classified-council",
   "metadata": {},
   "source": [
    "# Chapter 5 Evaluation "
   ]
  },
  {
   "cell_type": "markdown",
   "id": "occupied-ranch",
   "metadata": {},
   "source": [
    "In this chapter I learnt about ways of using dictionary data while programming and it is very sueful when it comes to mapping out the items. Dictionary { - } can be used as a collection of different data types excluding integers. As they are not in a specific order, any desired value can be assigned to keys. Pretty printing > pprint() and pformat()functions allow displaying the information in an ordered manner. The chapter was easier to understand compared to chapter 5. dict.get()and dict[] functions can be used to assign value to desired key. The main difference between two is, dict.get() allows to provide a default value in the case of key is missing."
   ]
  },
  {
   "cell_type": "markdown",
   "id": "affected-cache",
   "metadata": {},
   "source": [
    "# Chapter 6 - Manipulating Strings"
   ]
  },
  {
   "cell_type": "markdown",
   "id": "adaptive-robin",
   "metadata": {},
   "source": [
    "Question 1\n",
    "\n",
    "Escape characters includes charcters that are difficult to include as an imnput to the strings."
   ]
  },
  {
   "cell_type": "markdown",
   "id": "authorized-romantic",
   "metadata": {},
   "source": [
    "Question 2 \n",
    "\n",
    "\\n : new line\n",
    "\n",
    "\\t : new tab"
   ]
  },
  {
   "cell_type": "code",
   "execution_count": 1,
   "id": "swedish-giant",
   "metadata": {},
   "outputs": [
    {
     "name": "stdout",
     "output_type": "stream",
     "text": [
      "4 \n",
      " 6\n"
     ]
    }
   ],
   "source": [
    "print(4,'\\n',6)"
   ]
  },
  {
   "cell_type": "code",
   "execution_count": 2,
   "id": "ranging-metallic",
   "metadata": {},
   "outputs": [
    {
     "name": "stdout",
     "output_type": "stream",
     "text": [
      "4 \t 6\n"
     ]
    }
   ],
   "source": [
    "print(4,'\\t',6)"
   ]
  },
  {
   "cell_type": "markdown",
   "id": "concerned-islam",
   "metadata": {},
   "source": [
    "Question 3"
   ]
  },
  {
   "cell_type": "code",
   "execution_count": 4,
   "id": "absent-cooling",
   "metadata": {},
   "outputs": [
    {
     "name": "stdout",
     "output_type": "stream",
     "text": [
      "z\n",
      "d\n"
     ]
    }
   ],
   "source": [
    "print('z\\nd')"
   ]
  },
  {
   "cell_type": "code",
   "execution_count": 5,
   "id": "affected-regression",
   "metadata": {},
   "outputs": [
    {
     "name": "stdout",
     "output_type": "stream",
     "text": [
      "z\\nd\n"
     ]
    }
   ],
   "source": [
    "print('z\\\\nd')"
   ]
  },
  {
   "cell_type": "markdown",
   "id": "combined-nelson",
   "metadata": {},
   "source": [
    "Question 4"
   ]
  },
  {
   "cell_type": "markdown",
   "id": "sixth-designer",
   "metadata": {},
   "source": [
    "It is a valid statement because Howl's already include a single quote of ' and douvble quotes that are used to mark the beginning and ending are used."
   ]
  },
  {
   "cell_type": "markdown",
   "id": "dated-calculation",
   "metadata": {},
   "source": [
    "Question 5"
   ]
  },
  {
   "cell_type": "markdown",
   "id": "typical-hanging",
   "metadata": {},
   "source": [
    "Excluding the escape character \\n , multiline strings enables to use new lines strings. "
   ]
  },
  {
   "cell_type": "markdown",
   "id": "ignored-viking",
   "metadata": {},
   "source": [
    "Question 6"
   ]
  },
  {
   "cell_type": "code",
   "execution_count": 7,
   "id": "false-roberts",
   "metadata": {},
   "outputs": [
    {
     "data": {
      "text/plain": [
       "'e'"
      ]
     },
     "execution_count": 7,
     "metadata": {},
     "output_type": "execute_result"
    }
   ],
   "source": [
    "'Hello, world!'[1]"
   ]
  },
  {
   "cell_type": "code",
   "execution_count": 8,
   "id": "limited-republican",
   "metadata": {},
   "outputs": [
    {
     "data": {
      "text/plain": [
       "'Hello'"
      ]
     },
     "execution_count": 8,
     "metadata": {},
     "output_type": "execute_result"
    }
   ],
   "source": [
    "'Hello, world!'[0:5]"
   ]
  },
  {
   "cell_type": "code",
   "execution_count": 9,
   "id": "blond-apache",
   "metadata": {},
   "outputs": [
    {
     "data": {
      "text/plain": [
       "'Hello'"
      ]
     },
     "execution_count": 9,
     "metadata": {},
     "output_type": "execute_result"
    }
   ],
   "source": [
    "'Hello, world!'[:5]"
   ]
  },
  {
   "cell_type": "code",
   "execution_count": 10,
   "id": "fossil-india",
   "metadata": {},
   "outputs": [
    {
     "data": {
      "text/plain": [
       "'lo, world!'"
      ]
     },
     "execution_count": 10,
     "metadata": {},
     "output_type": "execute_result"
    }
   ],
   "source": [
    "'Hello, world!'[3:]"
   ]
  },
  {
   "cell_type": "markdown",
   "id": "anticipated-marker",
   "metadata": {},
   "source": [
    "Question 7"
   ]
  },
  {
   "cell_type": "code",
   "execution_count": 11,
   "id": "expensive-bleeding",
   "metadata": {},
   "outputs": [
    {
     "data": {
      "text/plain": [
       "'HELLO'"
      ]
     },
     "execution_count": 11,
     "metadata": {},
     "output_type": "execute_result"
    }
   ],
   "source": [
    "'Hello'.upper()"
   ]
  },
  {
   "cell_type": "code",
   "execution_count": 12,
   "id": "lucky-strengthening",
   "metadata": {},
   "outputs": [
    {
     "data": {
      "text/plain": [
       "True"
      ]
     },
     "execution_count": 12,
     "metadata": {},
     "output_type": "execute_result"
    }
   ],
   "source": [
    "'Hello'.upper().isupper()"
   ]
  },
  {
   "cell_type": "code",
   "execution_count": 13,
   "id": "stylish-perth",
   "metadata": {},
   "outputs": [
    {
     "data": {
      "text/plain": [
       "'hello'"
      ]
     },
     "execution_count": 13,
     "metadata": {},
     "output_type": "execute_result"
    }
   ],
   "source": [
    "'Hello'.upper().lower()"
   ]
  },
  {
   "cell_type": "code",
   "execution_count": 14,
   "id": "settled-scale",
   "metadata": {},
   "outputs": [
    {
     "data": {
      "text/plain": [
       "False"
      ]
     },
     "execution_count": 14,
     "metadata": {},
     "output_type": "execute_result"
    }
   ],
   "source": [
    "'Hello'.upper().islower()"
   ]
  },
  {
   "cell_type": "markdown",
   "id": "material-enforcement",
   "metadata": {},
   "source": [
    "Question 8"
   ]
  },
  {
   "cell_type": "code",
   "execution_count": 15,
   "id": "exclusive-victoria",
   "metadata": {},
   "outputs": [
    {
     "data": {
      "text/plain": [
       "['Remember,', 'remember,', 'the', 'fifth', 'of', 'November.']"
      ]
     },
     "execution_count": 15,
     "metadata": {},
     "output_type": "execute_result"
    }
   ],
   "source": [
    "'Remember, remember, the fifth of November.'.split()"
   ]
  },
  {
   "cell_type": "code",
   "execution_count": 16,
   "id": "invisible-broadway",
   "metadata": {},
   "outputs": [
    {
     "data": {
      "text/plain": [
       "['Remember', ' remember', ' the fifth of November.']"
      ]
     },
     "execution_count": 16,
     "metadata": {},
     "output_type": "execute_result"
    }
   ],
   "source": [
    "'Remember, remember, the fifth of November.'.split(',')"
   ]
  },
  {
   "cell_type": "code",
   "execution_count": 17,
   "id": "material-church",
   "metadata": {},
   "outputs": [
    {
     "data": {
      "text/plain": [
       "'There-can-be-only-one.'"
      ]
     },
     "execution_count": 17,
     "metadata": {},
     "output_type": "execute_result"
    }
   ],
   "source": [
    "'-'.join('There can be only one.'.split())"
   ]
  },
  {
   "cell_type": "markdown",
   "id": "digital-baseline",
   "metadata": {},
   "source": [
    "Question 9\n",
    "\n",
    "rjust(), ljust(), and center() strings can be used."
   ]
  },
  {
   "cell_type": "code",
   "execution_count": 19,
   "id": "dress-incentive",
   "metadata": {},
   "outputs": [
    {
     "data": {
      "text/plain": [
       "'                                       sdhskjhdkjs'"
      ]
     },
     "execution_count": 19,
     "metadata": {},
     "output_type": "execute_result"
    }
   ],
   "source": [
    "'sdhskjhdkjs'.rjust(50)"
   ]
  },
  {
   "cell_type": "code",
   "execution_count": 21,
   "id": "brazilian-ordinance",
   "metadata": {},
   "outputs": [
    {
     "data": {
      "text/plain": [
       "'sdhskjhdkjs333333333333333333333333333333333333333'"
      ]
     },
     "execution_count": 21,
     "metadata": {},
     "output_type": "execute_result"
    }
   ],
   "source": [
    "'sdhskjhdkjs'.ljust(50,'3')"
   ]
  },
  {
   "cell_type": "markdown",
   "id": "metropolitan-drama",
   "metadata": {},
   "source": [
    "Question 10"
   ]
  },
  {
   "cell_type": "markdown",
   "id": "exact-drama",
   "metadata": {},
   "source": [
    " lstrip() and rstrip()  methods can be used."
   ]
  },
  {
   "cell_type": "code",
   "execution_count": 23,
   "id": "selected-display",
   "metadata": {},
   "outputs": [
    {
     "data": {
      "text/plain": [
       "'hdekjdfsh    '"
      ]
     },
     "execution_count": 23,
     "metadata": {},
     "output_type": "execute_result"
    }
   ],
   "source": [
    "'      hdekjdfsh    '.lstrip()"
   ]
  },
  {
   "cell_type": "code",
   "execution_count": 24,
   "id": "designing-registration",
   "metadata": {},
   "outputs": [
    {
     "data": {
      "text/plain": [
       "'      jdshvkdflkz    '"
      ]
     },
     "execution_count": 24,
     "metadata": {},
     "output_type": "execute_result"
    }
   ],
   "source": [
    "'      jdshvkdflkz    11111'.rstrip('1')"
   ]
  },
  {
   "cell_type": "markdown",
   "id": "different-choir",
   "metadata": {},
   "source": [
    "Practice: Translating English words to Pig Latin"
   ]
  },
  {
   "cell_type": "code",
   "execution_count": 52,
   "id": "dominican-aggregate",
   "metadata": {},
   "outputs": [],
   "source": [
    "def piglatin():\n",
    "    print (\"Playing Pig latin, please enter the word: \")\n",
    "    consants=['b', 'c', 'd', 'f', 'g', 'h', 'j', 'k', 'l', 'm', 'n', 'p', 'q', 'r', 's', 't', 'v', 'w', 'x', 'y', 'z']\n",
    "    x=raw_input()\n",
    "    print (x[0])\n",
    "    if x[0] in consants:\n",
    "        print (x[1::]+x[0]+\"ay\")\n",
    "    else:\n",
    "        print (x+\"way\")\n",
    "\n"
   ]
  },
  {
   "cell_type": "code",
   "execution_count": 53,
   "id": "thirty-military",
   "metadata": {},
   "outputs": [
    {
     "name": "stdout",
     "output_type": "stream",
     "text": [
      "Playing Pig latin, please enter the word: \n"
     ]
    },
    {
     "ename": "NameError",
     "evalue": "name 'raw_input' is not defined",
     "output_type": "error",
     "traceback": [
      "\u001b[1;31m---------------------------------------------------------------------------\u001b[0m",
      "\u001b[1;31mNameError\u001b[0m                                 Traceback (most recent call last)",
      "\u001b[1;32m<ipython-input-53-43bbf28d3c4a>\u001b[0m in \u001b[0;36m<module>\u001b[1;34m\u001b[0m\n\u001b[1;32m----> 1\u001b[1;33m \u001b[0mpiglatin\u001b[0m\u001b[1;33m(\u001b[0m\u001b[1;33m)\u001b[0m\u001b[1;33m\u001b[0m\u001b[1;33m\u001b[0m\u001b[0m\n\u001b[0m",
      "\u001b[1;32m<ipython-input-52-78ec11d43f31>\u001b[0m in \u001b[0;36mpiglatin\u001b[1;34m()\u001b[0m\n\u001b[0;32m      2\u001b[0m     \u001b[0mprint\u001b[0m \u001b[1;33m(\u001b[0m\u001b[1;34m\"Playing Pig latin, please enter the word: \"\u001b[0m\u001b[1;33m)\u001b[0m\u001b[1;33m\u001b[0m\u001b[1;33m\u001b[0m\u001b[0m\n\u001b[0;32m      3\u001b[0m     \u001b[0mconsants\u001b[0m\u001b[1;33m=\u001b[0m\u001b[1;33m[\u001b[0m\u001b[1;34m'b'\u001b[0m\u001b[1;33m,\u001b[0m \u001b[1;34m'c'\u001b[0m\u001b[1;33m,\u001b[0m \u001b[1;34m'd'\u001b[0m\u001b[1;33m,\u001b[0m \u001b[1;34m'f'\u001b[0m\u001b[1;33m,\u001b[0m \u001b[1;34m'g'\u001b[0m\u001b[1;33m,\u001b[0m \u001b[1;34m'h'\u001b[0m\u001b[1;33m,\u001b[0m \u001b[1;34m'j'\u001b[0m\u001b[1;33m,\u001b[0m \u001b[1;34m'k'\u001b[0m\u001b[1;33m,\u001b[0m \u001b[1;34m'l'\u001b[0m\u001b[1;33m,\u001b[0m \u001b[1;34m'm'\u001b[0m\u001b[1;33m,\u001b[0m \u001b[1;34m'n'\u001b[0m\u001b[1;33m,\u001b[0m \u001b[1;34m'p'\u001b[0m\u001b[1;33m,\u001b[0m \u001b[1;34m'q'\u001b[0m\u001b[1;33m,\u001b[0m \u001b[1;34m'r'\u001b[0m\u001b[1;33m,\u001b[0m \u001b[1;34m's'\u001b[0m\u001b[1;33m,\u001b[0m \u001b[1;34m't'\u001b[0m\u001b[1;33m,\u001b[0m \u001b[1;34m'v'\u001b[0m\u001b[1;33m,\u001b[0m \u001b[1;34m'w'\u001b[0m\u001b[1;33m,\u001b[0m \u001b[1;34m'x'\u001b[0m\u001b[1;33m,\u001b[0m \u001b[1;34m'y'\u001b[0m\u001b[1;33m,\u001b[0m \u001b[1;34m'z'\u001b[0m\u001b[1;33m]\u001b[0m\u001b[1;33m\u001b[0m\u001b[1;33m\u001b[0m\u001b[0m\n\u001b[1;32m----> 4\u001b[1;33m     \u001b[0mx\u001b[0m\u001b[1;33m=\u001b[0m\u001b[0mraw_input\u001b[0m\u001b[1;33m(\u001b[0m\u001b[1;33m)\u001b[0m\u001b[1;33m\u001b[0m\u001b[1;33m\u001b[0m\u001b[0m\n\u001b[0m\u001b[0;32m      5\u001b[0m     \u001b[0mprint\u001b[0m \u001b[1;33m(\u001b[0m\u001b[0mx\u001b[0m\u001b[1;33m[\u001b[0m\u001b[1;36m0\u001b[0m\u001b[1;33m]\u001b[0m\u001b[1;33m)\u001b[0m\u001b[1;33m\u001b[0m\u001b[1;33m\u001b[0m\u001b[0m\n\u001b[0;32m      6\u001b[0m     \u001b[1;32mif\u001b[0m \u001b[0mx\u001b[0m\u001b[1;33m[\u001b[0m\u001b[1;36m0\u001b[0m\u001b[1;33m]\u001b[0m \u001b[1;32min\u001b[0m \u001b[0mconsants\u001b[0m\u001b[1;33m:\u001b[0m\u001b[1;33m\u001b[0m\u001b[1;33m\u001b[0m\u001b[0m\n",
      "\u001b[1;31mNameError\u001b[0m: name 'raw_input' is not defined"
     ]
    }
   ],
   "source": [
    "piglatin()"
   ]
  },
  {
   "cell_type": "markdown",
   "id": "after-preparation",
   "metadata": {},
   "source": [
    "I could not solve the errors that I received, however this version is the closest I go to the result."
   ]
  },
  {
   "cell_type": "markdown",
   "id": "nervous-whole",
   "metadata": {},
   "source": [
    "# Chapter 6 - Evaluation"
   ]
  },
  {
   "cell_type": "markdown",
   "id": "decreased-encyclopedia",
   "metadata": {},
   "source": [
    "This chapter generally looked at the ways of text manuplation. For me, it was especially valuable to learn about how to retrieve partial strings though string values as well as adding and removing spaces or changing the letters in size. Escape letters are used for characters which cannot be placed in strings. To be able to practice these methods, I tried to create a piglatin translator, however I could not manage to made it work.However, these ysfule skills are cqan be used to write codes faster. I general, I am happy with the progress that I made."
   ]
  },
  {
   "cell_type": "markdown",
   "id": "disciplinary-practice",
   "metadata": {},
   "source": [
    "# Chapter 7 - Pattern Matching with Regular Expressions"
   ]
  },
  {
   "cell_type": "markdown",
   "id": "classical-typing",
   "metadata": {},
   "source": [
    "Question 1\n",
    "\n",
    "re.compile() function "
   ]
  },
  {
   "cell_type": "markdown",
   "id": "interstate-special",
   "metadata": {},
   "source": [
    "Question 2\n",
    "\n",
    "In order to backslashes not to be escaped, raw strings can be implemented in the code."
   ]
  },
  {
   "cell_type": "markdown",
   "id": "elementary-lover",
   "metadata": {},
   "source": [
    "Question 3\n",
    "\n",
    "Match objects return when search() method is used."
   ]
  },
  {
   "cell_type": "markdown",
   "id": "detected-transportation",
   "metadata": {},
   "source": [
    "Question 4\n",
    "\n",
    "By using group () function"
   ]
  },
  {
   "cell_type": "markdown",
   "id": "apparent-fiber",
   "metadata": {},
   "source": [
    "Question 5\n",
    "\n",
    "Entire match is covered by group 0, first group of parantheses covered by group 1 and second group of parantheses covered by group 2."
   ]
  },
  {
   "cell_type": "markdown",
   "id": "manual-mentor",
   "metadata": {},
   "source": [
    "Question 6\n",
    "\n",
    "regex can be specified by using \\., \\(, \\). to match actual parentheses and period characters.\n"
   ]
  },
  {
   "cell_type": "markdown",
   "id": "tight-wisconsin",
   "metadata": {},
   "source": [
    "Question 7\n",
    "\n",
    "Regex with no group results as a list of string.\n",
    "Regex with a group results as a tuples of string."
   ]
  },
  {
   "cell_type": "markdown",
   "id": "organized-cornell",
   "metadata": {},
   "source": [
    "Question 8\n",
    "\n",
    "| character: defines either , or matching of two different groups."
   ]
  },
  {
   "cell_type": "markdown",
   "id": "trying-bookmark",
   "metadata": {},
   "source": [
    "Question 9\n",
    "\n",
    "? character: “match zero or one of the preceding group” \n"
   ]
  },
  {
   "cell_type": "markdown",
   "id": "bridal-worry",
   "metadata": {},
   "source": [
    "Question 10\n",
    "\n",
    "__ + : 1 or more matches\n",
    "\n",
    "__ * : 0 or more matches\n"
   ]
  },
  {
   "cell_type": "markdown",
   "id": "found-western",
   "metadata": {},
   "source": [
    "Practice \n",
    "\n",
    "To practice some of the mentioned methods, I tried to write a code that can verify a phone number if it is American. However, the code gave a syntax error that I could not verify."
   ]
  },
  {
   "cell_type": "code",
   "execution_count": 73,
   "id": "rotary-graduation",
   "metadata": {},
   "outputs": [
    {
     "ename": "SyntaxError",
     "evalue": "invalid syntax (<ipython-input-73-b8a327b56342>, line 13)",
     "output_type": "error",
     "traceback": [
      "\u001b[1;36m  File \u001b[1;32m\"<ipython-input-73-b8a327b56342>\"\u001b[1;36m, line \u001b[1;32m13\u001b[0m\n\u001b[1;33m    if mpt text[i].isdecimal():\u001b[0m\n\u001b[1;37m           ^\u001b[0m\n\u001b[1;31mSyntaxError\u001b[0m\u001b[1;31m:\u001b[0m invalid syntax\n"
     ]
    }
   ],
   "source": [
    "def isPhoneNumber(text):\n",
    "    if len(text) !=12:\n",
    "        return False\n",
    "    \n",
    "    for i in Range(0,3):\n",
    "        if not text[i].isdecimal():\n",
    "            return False\n",
    "        \n",
    "    if text[3] !='-':\n",
    "        return False\n",
    "    \n",
    "    for i in range (4, 7):\n",
    "        if mpt text[i].isdecimal():\n",
    "            return False\n",
    "        \n",
    "    if text[7] !='-':\n",
    "        return False\n",
    "    \n",
    "    for i in range(8, 12):\n",
    "        if not text[i].isdecimal():\n",
    "            return False \n",
    "        \n",
    "    return True"
   ]
  },
  {
   "cell_type": "markdown",
   "id": "instructional-cameroon",
   "metadata": {},
   "source": [
    "After running into the issue, I started looking for an answer and I dound a solution in stackoverflow: https://stackoverflow.com/questions/43357151/not-returning-expected-result-python "
   ]
  },
  {
   "cell_type": "code",
   "execution_count": 65,
   "id": "removed-boston",
   "metadata": {},
   "outputs": [],
   "source": [
    "def isPhoneNumber(text):      #determining if the phone number is us, canadian style or not.\n",
    "    if len(text) != 12:\n",
    "        print(\"not 12 digits\")\n",
    "        return False          #not phone number sized\n",
    "\n",
    "    for i in range(0,3):\n",
    "        if not text[i].isdecimal():      #if not a decimal/number character we can use \n",
    "            print(\"first 3 characters are not numbers\")\n",
    "            return False\n",
    "\n",
    "    if text[3] != \"-\":\n",
    "        print(\"missing dash after the area code\")\n",
    "        return False       #missing dash\n",
    "\n",
    "    for i in range(4,7):\n",
    "        if not text[i].isdecimal():\n",
    "            print(\"three characters in the middle are not numbers\")\n",
    "            return False\n",
    "\n",
    "    if text[7] != \"-\":\n",
    "        print(\"missing second dash\")\n",
    "        return False\n",
    "\n",
    "    for i in range(8,12):\n",
    "        if not text[i].isdecimal():\n",
    "            print(\"last four characters are not numbers\")\n",
    "            return False      #missing the last 4 digits\n",
    "\n",
    "    return True"
   ]
  },
  {
   "cell_type": "code",
   "execution_count": 66,
   "id": "thermal-wisconsin",
   "metadata": {},
   "outputs": [
    {
     "data": {
      "text/plain": [
       "True"
      ]
     },
     "execution_count": 66,
     "metadata": {},
     "output_type": "execute_result"
    }
   ],
   "source": [
    "isPhoneNumber(\"414-555-0000\")"
   ]
  },
  {
   "cell_type": "markdown",
   "id": "academic-decision",
   "metadata": {},
   "source": [
    "# Chapter 7 - Evaluation "
   ]
  },
  {
   "cell_type": "markdown",
   "id": "three-shade",
   "metadata": {},
   "source": [
    "In this chapter, I learnt of the ways to searcg a spcpic patterns of characters while programming. In this chapter, I tried to understand how Regex objects can be copiled in various ways such as search() ,  findall() and sub() functions. However explanations of this chapter was harder to understand as I could not proceed with all the questions. "
   ]
  }
 ],
 "metadata": {
  "kernelspec": {
   "display_name": "Python 3",
   "language": "python",
   "name": "python3"
  },
  "language_info": {
   "codemirror_mode": {
    "name": "ipython",
    "version": 3
   },
   "file_extension": ".py",
   "mimetype": "text/x-python",
   "name": "python",
   "nbconvert_exporter": "python",
   "pygments_lexer": "ipython3",
   "version": "3.9.2"
  }
 },
 "nbformat": 4,
 "nbformat_minor": 5
}
